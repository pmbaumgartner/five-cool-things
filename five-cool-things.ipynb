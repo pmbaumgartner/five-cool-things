{
 "cells": [
  {
   "cell_type": "markdown",
   "metadata": {},
   "source": [
    "# Five Cool Things in Five Minutes\n",
    "Using the [Amazon Fine Foods Dataset](https://www.kaggle.com/snap/amazon-fine-food-reviews/), 100,000 row sample.\n",
    "\n",
    "\n",
    "\n",
    "# [bit.ly/python-5ct](http://bit.ly/python-5ct)"
   ]
  },
  {
   "cell_type": "markdown",
   "metadata": {},
   "source": [
    "## 1. SQL Magic\n",
    "```\n",
    "pip install ipython-sql\n",
    "```\n",
    "https://github.com/catherinedevlin/ipython-sql"
   ]
  },
  {
   "cell_type": "code",
   "execution_count": null,
   "metadata": {},
   "outputs": [],
   "source": [
    "%load_ext sql\n",
    "%sql sqlite:///database-sample.sqlite"
   ]
  },
  {
   "cell_type": "code",
   "execution_count": null,
   "metadata": {},
   "outputs": [],
   "source": [
    "%%sql\n",
    "\n",
    "SELECT name, sql FROM sqlite_master\n",
    "ORDER BY name;"
   ]
  },
  {
   "cell_type": "code",
   "execution_count": null,
   "metadata": {},
   "outputs": [],
   "source": [
    "review_data = %sql SELECT productId, Score FROM reviews ORDER BY productId"
   ]
  },
  {
   "cell_type": "code",
   "execution_count": null,
   "metadata": {},
   "outputs": [],
   "source": [
    "review_data[0:5]"
   ]
  },
  {
   "cell_type": "markdown",
   "metadata": {},
   "source": [
    "## 2. `from itertools import groupby`\n",
    "We want to find the average score for each product. I see you reaching for `import pandas as pd`... but we're going `pandas` free!\n",
    "\n",
    "https://docs.python.org/3/library/itertools.html#itertools.groupby"
   ]
  },
  {
   "cell_type": "code",
   "execution_count": null,
   "metadata": {},
   "outputs": [],
   "source": [
    "from itertools import groupby\n",
    "from statistics import mean\n",
    "help(groupby)"
   ]
  },
  {
   "cell_type": "code",
   "execution_count": null,
   "metadata": {},
   "outputs": [],
   "source": [
    "product_means = []\n",
    "for product, reviews in groupby(review_data, key=lambda x: x[0]):\n",
    "    reviews = list(reviews)\n",
    "    product_means.append((product, mean(review[1] for review in reviews), len(reviews)))\n",
    "\n",
    "top5_products = sorted(product_means, key=lambda x: (x[1], x[2]), reverse=True)[:5]\n",
    "\n",
    "print(*top5_products, sep=\"\\n\")"
   ]
  },
  {
   "cell_type": "markdown",
   "metadata": {},
   "source": [
    "## 3. Printing Sparkline Histograms\n",
    "```\n",
    "pip install sparklines\n",
    "```\n",
    "\n",
    "https://github.com/deeplook/sparklines"
   ]
  },
  {
   "cell_type": "code",
   "execution_count": null,
   "metadata": {},
   "outputs": [],
   "source": [
    "from sparklines import sparklines\n",
    "import numpy as np"
   ]
  },
  {
   "cell_type": "code",
   "execution_count": null,
   "metadata": {},
   "outputs": [],
   "source": [
    "def generate_sparkline(array):\n",
    "    try:\n",
    "        bins = np.bincount(array)[1:6] # bincount includes 0, 1-5 range\n",
    "        sparkline = sparklines(bins) # a list of bars\n",
    "        return ''.join(sparkline)\n",
    "    except ValueError:\n",
    "        return ''"
   ]
  },
  {
   "cell_type": "code",
   "execution_count": null,
   "metadata": {},
   "outputs": [],
   "source": [
    "print(generate_sparkline(([1,4,3,4,2,1,2,3,4,3,5,5,3,2,4])))"
   ]
  },
  {
   "cell_type": "markdown",
   "metadata": {},
   "source": [
    "## 🎊 3.5 BONUS: Change CSS in Notebook"
   ]
  },
  {
   "cell_type": "code",
   "execution_count": null,
   "metadata": {},
   "outputs": [],
   "source": [
    "from IPython.display import HTML\n",
    "HTML(\"\"\"\n",
    "<style>pre {font-family: SFMono-Regular,Consolas,Liberation Mono,Menlo,Courier,monospace;}</style>\"\"\")"
   ]
  },
  {
   "cell_type": "markdown",
   "metadata": {},
   "source": [
    "Let's combine groupby with our sparkline function..."
   ]
  },
  {
   "cell_type": "code",
   "execution_count": null,
   "metadata": {},
   "outputs": [],
   "source": [
    "product_sparklines = []\n",
    "for product, reviews in groupby(review_data, key=lambda x: x[0]):\n",
    "    reviews = list(reviews)\n",
    "    product_sparklines.append((product, generate_sparkline([review[1] for review in reviews])))"
   ]
  },
  {
   "cell_type": "code",
   "execution_count": null,
   "metadata": {},
   "outputs": [],
   "source": [
    "for product, sparkline in product_sparklines[:5]:\n",
    "    print(product, sparkline, sep=\"\\t\")\n",
    "    print()"
   ]
  },
  {
   "cell_type": "markdown",
   "metadata": {},
   "source": [
    "## 4. Sorting by number of ratings and overall rating?\n",
    "\n",
    "```\n",
    "pip install statsmodels\n",
    "```\n",
    "\n",
    "Basically: **I want to sort on number of reviews AND review score.**\n",
    "\n",
    "📄 **Good blog post**: https://www.evanmiller.org/how-not-to-sort-by-average-rating.html\n",
    "    \n",
    "> We need to balance the proportion of positive ratings with the uncertainty of a small number of observations. Fortunately, the math for this was worked out in 1927 by Edwin B. Wilson. What we want to ask is: *Given the ratings I have, there is a 95% chance that the “real” fraction of positive ratings is at least what?* "
   ]
  },
  {
   "cell_type": "code",
   "execution_count": null,
   "metadata": {},
   "outputs": [],
   "source": [
    "from statsmodels.stats.proportion import proportion_confint\n",
    "from statistics import stdev, median"
   ]
  },
  {
   "cell_type": "code",
   "execution_count": null,
   "metadata": {},
   "outputs": [],
   "source": [
    "product_data = []\n",
    "# We're going to do some extra aggregations here \n",
    "# because we'll need it for the next part\n",
    "for product, reviews in groupby(review_data, key=lambda x: x[0]):\n",
    "    review_scores = [review[1] for review in reviews]\n",
    "    mean_score = mean(review_scores)\n",
    "    median_score = median(review_scores)\n",
    "    stdev_score = round(stdev(review_scores), 2) if len(review_scores) > 1 else 0\n",
    "    positive_reviews = [int(r) > 3 for r in review_scores]\n",
    "    p_positive = round(mean(positive_reviews), 2)\n",
    "    \n",
    "    # Here's the money:\n",
    "    wilson_score = proportion_confint(sum(positive_reviews), len(review_scores), method='wilson')[0]\n",
    "    wilson_score = round(wilson_score, 2)\n",
    "    \n",
    "    sparkline = generate_sparkline(review_scores)\n",
    "    product_data.append(\n",
    "        dict(\n",
    "            product=product,\n",
    "            n_ratings=len(review_scores),\n",
    "            mean=mean_score,\n",
    "            median=median_score,\n",
    "            stdev=stdev_score,\n",
    "            p_positive=p_positive,\n",
    "            wilson_score=wilson_score,\n",
    "            sparkline=sparkline,\n",
    "        )\n",
    "    )"
   ]
  },
  {
   "cell_type": "markdown",
   "metadata": {},
   "source": [
    "## 5. IPywidgets\n",
    "### 5.5 🎊 BONUS: `tabulate`\n",
    "```\n",
    "pip install ipywidgets\n",
    "jupyter nbextension enable --py widgetsnbextension\n",
    "pip install tabulate\n",
    "```\n",
    "\n",
    "https://ipywidgets.readthedocs.io/en/stable/index.html"
   ]
  },
  {
   "cell_type": "code",
   "execution_count": null,
   "metadata": {},
   "outputs": [],
   "source": [
    "from ipywidgets import interact\n",
    "from tabulate import tabulate"
   ]
  },
  {
   "cell_type": "code",
   "execution_count": null,
   "metadata": {
    "scrolled": false
   },
   "outputs": [],
   "source": [
    "@interact(\n",
    "    by=[\"n_ratings\", \"mean\", \"median\", \"stdev\", \"p_positive\", \"wilson_score\"],\n",
    "    descending=[True, False],\n",
    "    top=(5, 50, 5),\n",
    ")\n",
    "def product_sorter(by, descending, top=5):\n",
    "    sorted_data = sorted(product_data, key=lambda x: x[by], reverse=descending)[:top]\n",
    "    print(tabulate(sorted_data, headers=\"keys\", tablefmt=\"grid\"))"
   ]
  },
  {
   "cell_type": "code",
   "execution_count": null,
   "metadata": {},
   "outputs": [],
   "source": []
  }
 ],
 "metadata": {
  "kernelspec": {
   "display_name": "Python 3",
   "language": "python",
   "name": "python3"
  },
  "language_info": {
   "codemirror_mode": {
    "name": "ipython",
    "version": 3
   },
   "file_extension": ".py",
   "mimetype": "text/x-python",
   "name": "python",
   "nbconvert_exporter": "python",
   "pygments_lexer": "ipython3",
   "version": "3.6.8"
  }
 },
 "nbformat": 4,
 "nbformat_minor": 2
}
