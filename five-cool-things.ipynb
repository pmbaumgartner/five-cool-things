{
 "cells": [
  {
   "cell_type": "markdown",
   "metadata": {},
   "source": [
    "# Five Cool Things in Five Minutes\n",
    "Using the [Amazon Fine Foods Dataset](https://www.kaggle.com/snap/amazon-fine-food-reviews/), first 100,000 rows."
   ]
  },
  {
   "cell_type": "markdown",
   "metadata": {},
   "source": [
    "## 1. SQL Magic\n",
    "```\n",
    "pip install ipython-sql\n",
    "```\n",
    "https://github.com/catherinedevlin/ipython-sql"
   ]
  },
  {
   "cell_type": "code",
   "execution_count": 1,
   "metadata": {},
   "outputs": [
    {
     "data": {
      "text/plain": [
       "'Connected: @database-sample.sqlite'"
      ]
     },
     "execution_count": 1,
     "metadata": {},
     "output_type": "execute_result"
    }
   ],
   "source": [
    "%load_ext sql\n",
    "%sql sqlite:///database-sample.sqlite"
   ]
  },
  {
   "cell_type": "code",
   "execution_count": 2,
   "metadata": {},
   "outputs": [
    {
     "name": "stdout",
     "output_type": "stream",
     "text": [
      " * sqlite:///database-sample.sqlite\n",
      "Done.\n"
     ]
    }
   ],
   "source": [
    "df = %sql SELECT * from reviews\n"
   ]
  },
  {
   "cell_type": "code",
   "execution_count": 3,
   "metadata": {},
   "outputs": [
    {
     "name": "stdout",
     "output_type": "stream",
     "text": [
      " * sqlite:///database-sample.sqlite\n",
      "Done.\n"
     ]
    },
    {
     "data": {
      "text/html": [
       "<table>\n",
       "    <tr>\n",
       "        <th>name</th>\n",
       "        <th>sql</th>\n",
       "    </tr>\n",
       "    <tr>\n",
       "        <td>ix_reviews_index</td>\n",
       "        <td>CREATE INDEX &quot;ix_reviews_index&quot;ON &quot;reviews&quot; (&quot;index&quot;)</td>\n",
       "    </tr>\n",
       "    <tr>\n",
       "        <td>reviews</td>\n",
       "        <td>CREATE TABLE &quot;reviews&quot; (<br>&quot;index&quot; INTEGER,<br>  &quot;Id&quot; INTEGER,<br>  &quot;ProductId&quot; TEXT,<br>  &quot;UserId&quot; TEXT,<br>  &quot;ProfileName&quot; TEXT,<br>  &quot;HelpfulnessNumerator&quot; INTEGER,<br>  &quot;HelpfulnessDenominator&quot; INTEGER,<br>  &quot;Score&quot; INTEGER,<br>  &quot;Time&quot; INTEGER,<br>  &quot;Summary&quot; TEXT,<br>  &quot;Text&quot; TEXT<br>)</td>\n",
       "    </tr>\n",
       "</table>"
      ],
      "text/plain": [
       "[('ix_reviews_index', 'CREATE INDEX \"ix_reviews_index\"ON \"reviews\" (\"index\")'),\n",
       " ('reviews', 'CREATE TABLE \"reviews\" (\\n\"index\" INTEGER,\\n  \"Id\" INTEGER,\\n  \"ProductId\" TEXT,\\n  \"UserId\" TEXT,\\n  \"ProfileName\" TEXT,\\n  \"HelpfulnessNumerator\" INTEGER,\\n  \"HelpfulnessDenominator\" INTEGER,\\n  \"Score\" INTEGER,\\n  \"Time\" INTEGER,\\n  \"Summary\" TEXT,\\n  \"Text\" TEXT\\n)')]"
      ]
     },
     "execution_count": 3,
     "metadata": {},
     "output_type": "execute_result"
    }
   ],
   "source": [
    "%%sql\n",
    "\n",
    "SELECT name, sql FROM sqlite_master\n",
    "ORDER BY name;"
   ]
  },
  {
   "cell_type": "code",
   "execution_count": 4,
   "metadata": {},
   "outputs": [
    {
     "name": "stdout",
     "output_type": "stream",
     "text": [
      " * sqlite:///database-sample.sqlite\n",
      "Done.\n"
     ]
    }
   ],
   "source": [
    "review_data = %sql SELECT productId, Score FROM reviews ORDER BY productId"
   ]
  },
  {
   "cell_type": "code",
   "execution_count": 5,
   "metadata": {},
   "outputs": [
    {
     "data": {
      "text/plain": [
       "[('0006641040', 4),\n",
       " ('0006641040', 3),\n",
       " ('0006641040', 5),\n",
       " ('0006641040', 1),\n",
       " ('7310172001', 4)]"
      ]
     },
     "execution_count": 5,
     "metadata": {},
     "output_type": "execute_result"
    }
   ],
   "source": [
    "review_data[0:5]"
   ]
  },
  {
   "cell_type": "markdown",
   "metadata": {},
   "source": [
    "## 2. `from itertools import groupby`\n",
    "We want to find the average score for each product. I see you reaching for `import pandas as pd`... but we're going `pandas` free!\n",
    "\n",
    "https://docs.python.org/3/library/itertools.html#itertools.groupby"
   ]
  },
  {
   "cell_type": "code",
   "execution_count": 6,
   "metadata": {},
   "outputs": [
    {
     "name": "stdout",
     "output_type": "stream",
     "text": [
      "Help on class groupby in module itertools:\n",
      "\n",
      "class groupby(builtins.object)\n",
      " |  groupby(iterable, key=None) -> make an iterator that returns consecutive\n",
      " |  keys and groups from the iterable.  If the key function is not specified or\n",
      " |  is None, the element itself is used for grouping.\n",
      " |  \n",
      " |  Methods defined here:\n",
      " |  \n",
      " |  __getattribute__(self, name, /)\n",
      " |      Return getattr(self, name).\n",
      " |  \n",
      " |  __iter__(self, /)\n",
      " |      Implement iter(self).\n",
      " |  \n",
      " |  __next__(self, /)\n",
      " |      Implement next(self).\n",
      " |  \n",
      " |  __reduce__(...)\n",
      " |      Return state information for pickling.\n",
      " |  \n",
      " |  __setstate__(...)\n",
      " |      Set state information for unpickling.\n",
      " |  \n",
      " |  ----------------------------------------------------------------------\n",
      " |  Static methods defined here:\n",
      " |  \n",
      " |  __new__(*args, **kwargs) from builtins.type\n",
      " |      Create and return a new object.  See help(type) for accurate signature.\n",
      "\n"
     ]
    }
   ],
   "source": [
    "from itertools import groupby\n",
    "help(groupby)"
   ]
  },
  {
   "cell_type": "code",
   "execution_count": 7,
   "metadata": {},
   "outputs": [],
   "source": [
    "from statistics import mean"
   ]
  },
  {
   "cell_type": "code",
   "execution_count": 8,
   "metadata": {},
   "outputs": [
    {
     "name": "stdout",
     "output_type": "stream",
     "text": [
      "('B000ED9L9E', 5, 15)\n",
      "('B001E6GFKI', 5, 15)\n",
      "('B002N7DSP2', 5, 15)\n",
      "('B004UBZBMW', 5, 15)\n",
      "('B000FKL0D6', 5, 14)\n"
     ]
    }
   ],
   "source": [
    "product_means = []\n",
    "for product, reviews in groupby(review_data, key=lambda x: x[0]):\n",
    "    reviews = list(reviews)\n",
    "    product_means.append((product, mean(review[1] for review in reviews), len(reviews)))\n",
    "\n",
    "top5_products = sorted(product_means, key=lambda x: (x[1], x[2]), reverse=True)[:5]\n",
    "\n",
    "print(*top5_products, sep=\"\\n\")"
   ]
  },
  {
   "cell_type": "markdown",
   "metadata": {},
   "source": [
    "## 3. Printing Sparkline Histograms\n",
    "```\n",
    "pip install sparklines\n",
    "```\n",
    "\n",
    "https://github.com/deeplook/sparklines"
   ]
  },
  {
   "cell_type": "code",
   "execution_count": 9,
   "metadata": {},
   "outputs": [],
   "source": [
    "from sparklines import sparklines\n",
    "import numpy as np"
   ]
  },
  {
   "cell_type": "code",
   "execution_count": 10,
   "metadata": {},
   "outputs": [],
   "source": [
    "def generate_sparkline(array):\n",
    "    try:\n",
    "        bins = np.bincount(array)[1:6] # bincount includes 0, 1-5 range\n",
    "        sparkline = sparklines(bins) # a list of bars\n",
    "        return ''.join(sparkline)\n",
    "    except ValueError:\n",
    "        return ''"
   ]
  },
  {
   "cell_type": "code",
   "execution_count": 11,
   "metadata": {},
   "outputs": [
    {
     "name": "stdout",
     "output_type": "stream",
     "text": [
      "▁▁▁█\n"
     ]
    }
   ],
   "source": [
    "print(generate_sparkline(([1,4,3,2,4])))"
   ]
  },
  {
   "cell_type": "markdown",
   "metadata": {},
   "source": [
    "## 🎊 3.5 BONUS: Change CSS in Notebook"
   ]
  },
  {
   "cell_type": "code",
   "execution_count": 12,
   "metadata": {},
   "outputs": [
    {
     "data": {
      "text/html": [
       "\n",
       "<style>pre {font-family: SFMono-Regular,Consolas,Liberation Mono,Menlo,Courier,monospace;}</style>"
      ],
      "text/plain": [
       "<IPython.core.display.HTML object>"
      ]
     },
     "execution_count": 12,
     "metadata": {},
     "output_type": "execute_result"
    }
   ],
   "source": [
    "from IPython.display import HTML\n",
    "HTML(\"\"\"\n",
    "<style>pre {font-family: SFMono-Regular,Consolas,Liberation Mono,Menlo,Courier,monospace;}</style>\"\"\")"
   ]
  },
  {
   "cell_type": "markdown",
   "metadata": {},
   "source": [
    "Let's combine groupby with our sparkline function..."
   ]
  },
  {
   "cell_type": "code",
   "execution_count": 13,
   "metadata": {},
   "outputs": [],
   "source": [
    "product_sparklines = []\n",
    "for product, reviews in groupby(review_data, key=lambda x: x[0]):\n",
    "    reviews = list(reviews)\n",
    "    product_sparklines.append((product, generate_sparkline([review[1] for review in reviews])))"
   ]
  },
  {
   "cell_type": "code",
   "execution_count": 14,
   "metadata": {},
   "outputs": [
    {
     "name": "stdout",
     "output_type": "stream",
     "text": [
      "0006641040\t█▁███\n",
      "\n",
      "7310172001\t▁▁▁▂█\n",
      "\n",
      "7310172101\t▁▁▁▂█\n",
      "\n",
      "B00002N8SM\t█▁▂\n",
      "\n",
      "B00004CI84\t▂▁▁▂█\n",
      "\n",
      "B00004CXX9\t▂▁▂▃█\n",
      "\n",
      "B00004RAMS\t█▁▄▁█\n",
      "\n",
      "B00004RAMX\t▂▁▂▂█\n",
      "\n",
      "B00004RAMY\t▂▁▁▂█\n",
      "\n",
      "B00004RBDU\t▂▂▁▂█\n",
      "\n"
     ]
    }
   ],
   "source": [
    "for product, sparkline in product_sparklines[0:10]:\n",
    "    print(product, sparkline, sep=\"\\t\")\n",
    "    print()"
   ]
  },
  {
   "cell_type": "markdown",
   "metadata": {},
   "source": [
    "## 4. Sorting by number of ratings and overall rating?\n",
    "\n",
    "```\n",
    "pip install statsmodels\n",
    "```\n",
    "\n",
    "Basically: I want to sort on number of reviews AND review score.\n",
    "\n",
    "https://www.evanmiller.org/how-not-to-sort-by-average-rating.html\n",
    "    \n",
    "> We need to balance the proportion of positive ratings with the uncertainty of a small number of observations. Fortunately, the math for this was worked out in 1927 by Edwin B. Wilson. What we want to ask is: *Given the ratings I have, there is a 95% chance that the “real” fraction of positive ratings is at least what?* "
   ]
  },
  {
   "cell_type": "code",
   "execution_count": 15,
   "metadata": {},
   "outputs": [],
   "source": [
    "from statsmodels.stats.proportion import proportion_confint\n",
    "from statistics import stdev, median\n",
    "\n",
    "product_data = []\n",
    "# We're going to do some extra here because we'll need it for the next part\n",
    "for product, reviews in groupby(review_data, key=lambda x: x[0]):\n",
    "    review_scores = [review[1] for review in reviews]\n",
    "    mean_score = mean(review_scores)\n",
    "    median_score = median(review_scores)\n",
    "    stdev_score = round(stdev(review_scores), 2) if len(review_scores) > 1 else 0\n",
    "    positive_reviews = [int(r) > 3 for r in review_scores]\n",
    "    p_positive = round(mean(positive_reviews), 2)\n",
    "    \n",
    "    # Here's the money:\n",
    "    wilson_score = proportion_confint(sum(positive_reviews), len(review_scores), method='wilson')[0]\n",
    "    wilson_score = round(wilson_score, 2)\n",
    "    \n",
    "    sparkline = generate_sparkline(review_scores)\n",
    "    product_data.append(\n",
    "        dict(\n",
    "            product=product,\n",
    "            n_ratings=len(review_scores),\n",
    "            mean=mean_score,\n",
    "            median=median_score,\n",
    "            stdev=stdev_score,\n",
    "            p_positive=p_positive,\n",
    "            wilson_score=wilson_score,\n",
    "            sparkline=sparkline,\n",
    "        )\n",
    "    )"
   ]
  },
  {
   "cell_type": "markdown",
   "metadata": {},
   "source": [
    "## 5. IPywidgets\n",
    "### 5.5 🎊 BONUS: `tabulate`\n",
    "```\n",
    "pip install ipywidgets\n",
    "jupyter nbextension enable --py widgetsnbextension\n",
    "pip install tabulate\n",
    "```\n",
    "\n",
    "https://ipywidgets.readthedocs.io/en/stable/index.html"
   ]
  },
  {
   "cell_type": "code",
   "execution_count": 16,
   "metadata": {},
   "outputs": [],
   "source": [
    "from ipywidgets import interact\n",
    "from tabulate import tabulate"
   ]
  },
  {
   "cell_type": "code",
   "execution_count": 17,
   "metadata": {
    "scrolled": false
   },
   "outputs": [
    {
     "data": {
      "application/vnd.jupyter.widget-view+json": {
       "model_id": "80ebf0973736455faf3a3f9d8e356706",
       "version_major": 2,
       "version_minor": 0
      },
      "text/plain": [
       "interactive(children=(Dropdown(description='by', options=('n_ratings', 'mean', 'median', 'stdev', 'p_positive'…"
      ]
     },
     "metadata": {},
     "output_type": "display_data"
    }
   ],
   "source": [
    "def product_sorter(by, descending, top=5):\n",
    "    sorted_data = sorted(product_data, key=lambda x: x[by], reverse=descending)[:top]\n",
    "    print(tabulate(sorted_data, headers=\"keys\", tablefmt=\"grid\"))\n",
    "\n",
    "interact(product_sorter,\n",
    "         by=['n_ratings', 'mean', 'median', 'stdev', 'p_positcive', 'wilson_score'],\n",
    "         descending=[True, False],\n",
    "         top=(5, 50, 5));"
   ]
  },
  {
   "cell_type": "code",
   "execution_count": null,
   "metadata": {},
   "outputs": [],
   "source": []
  }
 ],
 "metadata": {
  "kernelspec": {
   "display_name": "Python 3",
   "language": "python",
   "name": "python3"
  },
  "language_info": {
   "codemirror_mode": {
    "name": "ipython",
    "version": 3
   },
   "file_extension": ".py",
   "mimetype": "text/x-python",
   "name": "python",
   "nbconvert_exporter": "python",
   "pygments_lexer": "ipython3",
   "version": "3.7.3"
  }
 },
 "nbformat": 4,
 "nbformat_minor": 2
}
